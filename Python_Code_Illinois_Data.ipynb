{
 "cells": [
  {
   "cell_type": "markdown",
   "metadata": {
    "colab_type": "text",
    "id": "S4Rlw7gG_hGY"
   },
   "source": [
    "# Main Code\n"
   ]
  },
  {
   "cell_type": "code",
   "execution_count": 0,
   "metadata": {
    "colab": {},
    "colab_type": "code",
    "id": "vGbYD4PmTeEX"
   },
   "outputs": [],
   "source": [
    "import numpy as np \n",
    "import pandas as pd\n",
    "import seaborn as sns\n",
    "import matplotlib.pyplot as plt\n",
    "%matplotlib inline\n",
    "\n",
    "\n",
    "from sklearn.model_selection import train_test_split\n",
    "from sklearn.preprocessing import StandardScaler,RobustScaler,LabelEncoder,OneHotEncoder,MinMaxScaler\n",
    "from sklearn.tree import DecisionTreeRegressor\n",
    "from sklearn.metrics import r2_score\n",
    "from sklearn.ensemble import RandomForestRegressor\n",
    "from sklearn.decomposition import PCA\n",
    "from sklearn.cluster import KMeans"
   ]
  },
  {
   "cell_type": "code",
   "execution_count": 0,
   "metadata": {
    "colab": {},
    "colab_type": "code",
    "id": "56uiGpK6nr3s"
   },
   "outputs": [],
   "source": [
    "df=pd.read_csv('Consumer Behavior.csv')"
   ]
  },
  {
   "cell_type": "code",
   "execution_count": 330,
   "metadata": {
    "colab": {
     "base_uri": "https://localhost:8080/",
     "height": 299
    },
    "colab_type": "code",
    "id": "PypigRixoKpB",
    "outputId": "6cb0a9b2-29f3-4a80-ac62-755861f3a9b7"
   },
   "outputs": [
    {
     "data": {
      "text/html": [
       "<div>\n",
       "<style scoped>\n",
       "    .dataframe tbody tr th:only-of-type {\n",
       "        vertical-align: middle;\n",
       "    }\n",
       "\n",
       "    .dataframe tbody tr th {\n",
       "        vertical-align: top;\n",
       "    }\n",
       "\n",
       "    .dataframe thead th {\n",
       "        text-align: right;\n",
       "    }\n",
       "</style>\n",
       "<table border=\"1\" class=\"dataframe\">\n",
       "  <thead>\n",
       "    <tr style=\"text-align: right;\">\n",
       "      <th></th>\n",
       "      <th>User_ID</th>\n",
       "      <th>Product_ID</th>\n",
       "      <th>Gender</th>\n",
       "      <th>Age</th>\n",
       "      <th>Occupation</th>\n",
       "      <th>City_Category</th>\n",
       "      <th>Stay_In_Current_City_Years</th>\n",
       "      <th>Marital_Status</th>\n",
       "      <th>Product_Category_1</th>\n",
       "      <th>Product_Category_2</th>\n",
       "      <th>Product_Category_3</th>\n",
       "      <th>Purchase Amount</th>\n",
       "    </tr>\n",
       "  </thead>\n",
       "  <tbody>\n",
       "    <tr>\n",
       "      <th>0</th>\n",
       "      <td>1000001</td>\n",
       "      <td>P00069042</td>\n",
       "      <td>F</td>\n",
       "      <td>0-17</td>\n",
       "      <td>10</td>\n",
       "      <td>A</td>\n",
       "      <td>2</td>\n",
       "      <td>0</td>\n",
       "      <td>3</td>\n",
       "      <td>NaN</td>\n",
       "      <td>NaN</td>\n",
       "      <td>8370</td>\n",
       "    </tr>\n",
       "    <tr>\n",
       "      <th>1</th>\n",
       "      <td>1000001</td>\n",
       "      <td>P00248942</td>\n",
       "      <td>F</td>\n",
       "      <td>0-17</td>\n",
       "      <td>10</td>\n",
       "      <td>A</td>\n",
       "      <td>2</td>\n",
       "      <td>0</td>\n",
       "      <td>1</td>\n",
       "      <td>6.0</td>\n",
       "      <td>14.0</td>\n",
       "      <td>15200</td>\n",
       "    </tr>\n",
       "    <tr>\n",
       "      <th>2</th>\n",
       "      <td>1000001</td>\n",
       "      <td>P00087842</td>\n",
       "      <td>F</td>\n",
       "      <td>0-17</td>\n",
       "      <td>10</td>\n",
       "      <td>A</td>\n",
       "      <td>2</td>\n",
       "      <td>0</td>\n",
       "      <td>12</td>\n",
       "      <td>NaN</td>\n",
       "      <td>NaN</td>\n",
       "      <td>1422</td>\n",
       "    </tr>\n",
       "    <tr>\n",
       "      <th>3</th>\n",
       "      <td>1000001</td>\n",
       "      <td>P00085442</td>\n",
       "      <td>F</td>\n",
       "      <td>0-17</td>\n",
       "      <td>10</td>\n",
       "      <td>A</td>\n",
       "      <td>2</td>\n",
       "      <td>0</td>\n",
       "      <td>12</td>\n",
       "      <td>14.0</td>\n",
       "      <td>NaN</td>\n",
       "      <td>1057</td>\n",
       "    </tr>\n",
       "    <tr>\n",
       "      <th>4</th>\n",
       "      <td>1000002</td>\n",
       "      <td>P00285442</td>\n",
       "      <td>M</td>\n",
       "      <td>55+</td>\n",
       "      <td>16</td>\n",
       "      <td>C</td>\n",
       "      <td>4+</td>\n",
       "      <td>0</td>\n",
       "      <td>8</td>\n",
       "      <td>NaN</td>\n",
       "      <td>NaN</td>\n",
       "      <td>7969</td>\n",
       "    </tr>\n",
       "  </tbody>\n",
       "</table>\n",
       "</div>"
      ],
      "text/plain": [
       "   User_ID Product_ID Gender   Age  Occupation City_Category  \\\n",
       "0  1000001  P00069042      F  0-17          10             A   \n",
       "1  1000001  P00248942      F  0-17          10             A   \n",
       "2  1000001  P00087842      F  0-17          10             A   \n",
       "3  1000001  P00085442      F  0-17          10             A   \n",
       "4  1000002  P00285442      M   55+          16             C   \n",
       "\n",
       "  Stay_In_Current_City_Years  Marital_Status  Product_Category_1  \\\n",
       "0                          2               0                   3   \n",
       "1                          2               0                   1   \n",
       "2                          2               0                  12   \n",
       "3                          2               0                  12   \n",
       "4                         4+               0                   8   \n",
       "\n",
       "   Product_Category_2  Product_Category_3  Purchase Amount  \n",
       "0                 NaN                 NaN             8370  \n",
       "1                 6.0                14.0            15200  \n",
       "2                 NaN                 NaN             1422  \n",
       "3                14.0                 NaN             1057  \n",
       "4                 NaN                 NaN             7969  "
      ]
     },
     "execution_count": 330,
     "metadata": {
      "tags": []
     },
     "output_type": "execute_result"
    }
   ],
   "source": [
    "df.head()"
   ]
  },
  {
   "cell_type": "markdown",
   "metadata": {
    "colab_type": "text",
    "id": "N-FcoiNgw_xl"
   },
   "source": [
    "# Predicting Purchase Amount"
   ]
  },
  {
   "cell_type": "markdown",
   "metadata": {
    "colab_type": "text",
    "id": "6-XUFhPfn-FP"
   },
   "source": [
    "## Preprocessing"
   ]
  },
  {
   "cell_type": "code",
   "execution_count": 331,
   "metadata": {
    "colab": {
     "base_uri": "https://localhost:8080/",
     "height": 246
    },
    "colab_type": "code",
    "id": "T9XzWe38ntVQ",
    "outputId": "ceac897c-a621-4401-cd64-6ff820f9fd93"
   },
   "outputs": [
    {
     "data": {
      "text/plain": [
       "User_ID                         int64\n",
       "Product_ID                     object\n",
       "Gender                         object\n",
       "Age                            object\n",
       "Occupation                      int64\n",
       "City_Category                  object\n",
       "Stay_In_Current_City_Years     object\n",
       "Marital_Status                  int64\n",
       "Product_Category_1              int64\n",
       "Product_Category_2            float64\n",
       "Product_Category_3            float64\n",
       "Purchase Amount                 int64\n",
       "dtype: object"
      ]
     },
     "execution_count": 331,
     "metadata": {
      "tags": []
     },
     "output_type": "execute_result"
    }
   ],
   "source": [
    "df.dtypes"
   ]
  },
  {
   "cell_type": "code",
   "execution_count": 0,
   "metadata": {
    "colab": {},
    "colab_type": "code",
    "id": "XKISopn7oWPW"
   },
   "outputs": [],
   "source": [
    "stay_dict={'2':2, '4+':4, '3':3, '1':1, '0':0}\n",
    "age_dict={'0-17':0, '55+':55, '26-35':26, '46-50':46, '51-55':51, '36-45':36, '18-25':18}"
   ]
  },
  {
   "cell_type": "code",
   "execution_count": 0,
   "metadata": {
    "colab": {},
    "colab_type": "code",
    "id": "iIRyPgEfnO_2"
   },
   "outputs": [],
   "source": [
    "#converting objects into int\n",
    "\n",
    "le_gend=LabelEncoder()\n",
    "\n",
    "le_city=LabelEncoder()\n",
    "\n",
    "df = df.fillna(0) #replacing nan values with 0\n",
    "\n",
    "df['Gender']=le_gend.fit_transform(df['Gender'])\n",
    "\n",
    "df['City_Category']=le_city.fit_transform(df['City_Category'])\n",
    "\n",
    "df['Stay_In_Current_City_Years']=df['Stay_In_Current_City_Years'].map(stay_dict)\n",
    "\n",
    "df['Age']=df['Age'].map(age_dict)"
   ]
  },
  {
   "cell_type": "code",
   "execution_count": 334,
   "metadata": {
    "colab": {
     "base_uri": "https://localhost:8080/",
     "height": 232
    },
    "colab_type": "code",
    "id": "39-tfoPCorZq",
    "outputId": "262e8e72-bb44-47c0-890a-4d09ef904e69"
   },
   "outputs": [
    {
     "data": {
      "text/html": [
       "<div>\n",
       "<style scoped>\n",
       "    .dataframe tbody tr th:only-of-type {\n",
       "        vertical-align: middle;\n",
       "    }\n",
       "\n",
       "    .dataframe tbody tr th {\n",
       "        vertical-align: top;\n",
       "    }\n",
       "\n",
       "    .dataframe thead th {\n",
       "        text-align: right;\n",
       "    }\n",
       "</style>\n",
       "<table border=\"1\" class=\"dataframe\">\n",
       "  <thead>\n",
       "    <tr style=\"text-align: right;\">\n",
       "      <th></th>\n",
       "      <th>User_ID</th>\n",
       "      <th>Product_ID</th>\n",
       "      <th>Gender</th>\n",
       "      <th>Age</th>\n",
       "      <th>Occupation</th>\n",
       "      <th>City_Category</th>\n",
       "      <th>Stay_In_Current_City_Years</th>\n",
       "      <th>Marital_Status</th>\n",
       "      <th>Product_Category_1</th>\n",
       "      <th>Product_Category_2</th>\n",
       "      <th>Product_Category_3</th>\n",
       "      <th>Purchase Amount</th>\n",
       "    </tr>\n",
       "  </thead>\n",
       "  <tbody>\n",
       "    <tr>\n",
       "      <th>0</th>\n",
       "      <td>1000001</td>\n",
       "      <td>P00069042</td>\n",
       "      <td>0</td>\n",
       "      <td>0</td>\n",
       "      <td>10</td>\n",
       "      <td>0</td>\n",
       "      <td>2</td>\n",
       "      <td>0</td>\n",
       "      <td>3</td>\n",
       "      <td>0.0</td>\n",
       "      <td>0.0</td>\n",
       "      <td>8370</td>\n",
       "    </tr>\n",
       "    <tr>\n",
       "      <th>1</th>\n",
       "      <td>1000001</td>\n",
       "      <td>P00248942</td>\n",
       "      <td>0</td>\n",
       "      <td>0</td>\n",
       "      <td>10</td>\n",
       "      <td>0</td>\n",
       "      <td>2</td>\n",
       "      <td>0</td>\n",
       "      <td>1</td>\n",
       "      <td>6.0</td>\n",
       "      <td>14.0</td>\n",
       "      <td>15200</td>\n",
       "    </tr>\n",
       "    <tr>\n",
       "      <th>2</th>\n",
       "      <td>1000001</td>\n",
       "      <td>P00087842</td>\n",
       "      <td>0</td>\n",
       "      <td>0</td>\n",
       "      <td>10</td>\n",
       "      <td>0</td>\n",
       "      <td>2</td>\n",
       "      <td>0</td>\n",
       "      <td>12</td>\n",
       "      <td>0.0</td>\n",
       "      <td>0.0</td>\n",
       "      <td>1422</td>\n",
       "    </tr>\n",
       "    <tr>\n",
       "      <th>3</th>\n",
       "      <td>1000001</td>\n",
       "      <td>P00085442</td>\n",
       "      <td>0</td>\n",
       "      <td>0</td>\n",
       "      <td>10</td>\n",
       "      <td>0</td>\n",
       "      <td>2</td>\n",
       "      <td>0</td>\n",
       "      <td>12</td>\n",
       "      <td>14.0</td>\n",
       "      <td>0.0</td>\n",
       "      <td>1057</td>\n",
       "    </tr>\n",
       "    <tr>\n",
       "      <th>4</th>\n",
       "      <td>1000002</td>\n",
       "      <td>P00285442</td>\n",
       "      <td>1</td>\n",
       "      <td>55</td>\n",
       "      <td>16</td>\n",
       "      <td>2</td>\n",
       "      <td>4</td>\n",
       "      <td>0</td>\n",
       "      <td>8</td>\n",
       "      <td>0.0</td>\n",
       "      <td>0.0</td>\n",
       "      <td>7969</td>\n",
       "    </tr>\n",
       "  </tbody>\n",
       "</table>\n",
       "</div>"
      ],
      "text/plain": [
       "   User_ID Product_ID  Gender  Age  Occupation  City_Category  \\\n",
       "0  1000001  P00069042       0    0          10              0   \n",
       "1  1000001  P00248942       0    0          10              0   \n",
       "2  1000001  P00087842       0    0          10              0   \n",
       "3  1000001  P00085442       0    0          10              0   \n",
       "4  1000002  P00285442       1   55          16              2   \n",
       "\n",
       "   Stay_In_Current_City_Years  Marital_Status  Product_Category_1  \\\n",
       "0                           2               0                   3   \n",
       "1                           2               0                   1   \n",
       "2                           2               0                  12   \n",
       "3                           2               0                  12   \n",
       "4                           4               0                   8   \n",
       "\n",
       "   Product_Category_2  Product_Category_3  Purchase Amount  \n",
       "0                 0.0                 0.0             8370  \n",
       "1                 6.0                14.0            15200  \n",
       "2                 0.0                 0.0             1422  \n",
       "3                14.0                 0.0             1057  \n",
       "4                 0.0                 0.0             7969  "
      ]
     },
     "execution_count": 334,
     "metadata": {
      "tags": []
     },
     "output_type": "execute_result"
    }
   ],
   "source": [
    "df.head()"
   ]
  },
  {
   "cell_type": "code",
   "execution_count": 0,
   "metadata": {
    "colab": {},
    "colab_type": "code",
    "id": "XT_dpf_7nO86"
   },
   "outputs": [],
   "source": [
    "#Dividing into X and y\n",
    "\n",
    "X=df.drop(['User_ID','Purchase Amount'],axis=1)\n",
    "\n",
    "y=df['Purchase Amount']\n",
    "\n",
    "\n",
    "#adding 3 new features\n",
    "\n",
    "X['Age_Prod1']=X.apply(lambda x:x['Age']*x['Product_Category_1'],axis=1) \n",
    "\n",
    "X['Prod2_Prod1_Prod3']=X.apply(lambda x:x['Product_Category_2']*x['Product_Category_3']*x['Product_Category_1'],axis=1)\n",
    "\n",
    "X['Prod2_Prod1']=X.apply(lambda x:x['Product_Category_2']*x['Product_Category_1'],axis=1)\n",
    "\n",
    "X['Product_ID'] = df['Product_ID'].factorize()[0]\n",
    "\n",
    "#splitting X and y into train and validation\n",
    "\n",
    "X_train,X_validation,y_train,y_validation=train_test_split(X,y,test_size=0.27,random_state=1234)"
   ]
  },
  {
   "cell_type": "markdown",
   "metadata": {
    "colab_type": "text",
    "id": "Le_RgopoqPDZ"
   },
   "source": [
    "## Random Forest"
   ]
  },
  {
   "cell_type": "code",
   "execution_count": 0,
   "metadata": {
    "colab": {},
    "colab_type": "code",
    "id": "TK70xyx7nO6v"
   },
   "outputs": [],
   "source": [
    "#parameters are tuned using Validation Error\n",
    "rf=RandomForestRegressor(n_estimators=30,verbose=3,max_depth=90,min_samples_leaf=120,criterion='mse')\n",
    "rf.fit(X_train,y_train)"
   ]
  },
  {
   "cell_type": "code",
   "execution_count": 341,
   "metadata": {
    "colab": {
     "base_uri": "https://localhost:8080/",
     "height": 70
    },
    "colab_type": "code",
    "id": "MyI1it-XnO0p",
    "outputId": "2b515a9d-6feb-4bf9-a796-1e82ad24577e"
   },
   "outputs": [
    {
     "name": "stderr",
     "output_type": "stream",
     "text": [
      "[Parallel(n_jobs=1)]: Done   1 out of   1 | elapsed:    0.0s remaining:    0.0s\n",
      "[Parallel(n_jobs=1)]: Done   2 out of   2 | elapsed:    0.0s remaining:    0.0s\n",
      "[Parallel(n_jobs=1)]: Done  30 out of  30 | elapsed:    0.6s finished\n"
     ]
    }
   ],
   "source": [
    "pred1 = rf.predict(X_validation)"
   ]
  },
  {
   "cell_type": "code",
   "execution_count": 343,
   "metadata": {
    "colab": {
     "base_uri": "https://localhost:8080/",
     "height": 34
    },
    "colab_type": "code",
    "id": "IG9EChErqJtE",
    "outputId": "2af34785-a0b8-4a0b-f040-456818fa8145"
   },
   "outputs": [
    {
     "data": {
      "text/plain": [
       "0.7019104508645861"
      ]
     },
     "execution_count": 343,
     "metadata": {
      "tags": []
     },
     "output_type": "execute_result"
    }
   ],
   "source": [
    "r2_score(y_validation,pred1) # validation r square"
   ]
  },
  {
   "cell_type": "code",
   "execution_count": 344,
   "metadata": {
    "colab": {
     "base_uri": "https://localhost:8080/",
     "height": 87
    },
    "colab_type": "code",
    "id": "WcEECE74qJqC",
    "outputId": "970e0447-3e1d-451a-93fa-8379b095eb0e"
   },
   "outputs": [
    {
     "name": "stderr",
     "output_type": "stream",
     "text": [
      "[Parallel(n_jobs=1)]: Done   1 out of   1 | elapsed:    0.1s remaining:    0.0s\n",
      "[Parallel(n_jobs=1)]: Done   2 out of   2 | elapsed:    0.1s remaining:    0.0s\n",
      "[Parallel(n_jobs=1)]: Done  30 out of  30 | elapsed:    1.6s finished\n"
     ]
    },
    {
     "data": {
      "text/plain": [
       "0.7065975041921814"
      ]
     },
     "execution_count": 344,
     "metadata": {
      "tags": []
     },
     "output_type": "execute_result"
    }
   ],
   "source": [
    "rf.score(X_train,y_train) # train r square"
   ]
  },
  {
   "cell_type": "markdown",
   "metadata": {
    "colab_type": "text",
    "id": "6jmtrPgTtFL0"
   },
   "source": [
    "## Decision Tree"
   ]
  },
  {
   "cell_type": "code",
   "execution_count": 345,
   "metadata": {
    "colab": {
     "base_uri": "https://localhost:8080/",
     "height": 105
    },
    "colab_type": "code",
    "id": "hLmTk6JyqJn1",
    "outputId": "7c19dac2-5854-4e48-c712-c2b8f91b8455"
   },
   "outputs": [
    {
     "data": {
      "text/plain": [
       "DecisionTreeRegressor(criterion='mse', max_depth=70, max_features=None,\n",
       "           max_leaf_nodes=2000, min_impurity_decrease=0.0,\n",
       "           min_impurity_split=None, min_samples_leaf=90,\n",
       "           min_samples_split=2, min_weight_fraction_leaf=0.0,\n",
       "           presort=False, random_state=None, splitter='best')"
      ]
     },
     "execution_count": 345,
     "metadata": {
      "tags": []
     },
     "output_type": "execute_result"
    }
   ],
   "source": [
    "#parameters are tuned using Validation Error\n",
    "dt=DecisionTreeRegressor(max_depth=70,max_leaf_nodes = 2000,min_samples_leaf=90)\n",
    "dt.fit(X_train,y_train)\n"
   ]
  },
  {
   "cell_type": "code",
   "execution_count": 0,
   "metadata": {
    "colab": {},
    "colab_type": "code",
    "id": "MsskjW4zqJmA"
   },
   "outputs": [],
   "source": [
    "pred2 = dt.predict(X_validation)"
   ]
  },
  {
   "cell_type": "code",
   "execution_count": 348,
   "metadata": {
    "colab": {
     "base_uri": "https://localhost:8080/",
     "height": 34
    },
    "colab_type": "code",
    "id": "_8BjYmPaqJjn",
    "outputId": "4770b6f7-d606-40d7-f622-0c24e4b87997"
   },
   "outputs": [
    {
     "data": {
      "text/plain": [
       "0.7022401380775009"
      ]
     },
     "execution_count": 348,
     "metadata": {
      "tags": []
     },
     "output_type": "execute_result"
    }
   ],
   "source": [
    "r2_score(y_validation,pred2) # r square of validation "
   ]
  },
  {
   "cell_type": "code",
   "execution_count": 349,
   "metadata": {
    "colab": {
     "base_uri": "https://localhost:8080/",
     "height": 34
    },
    "colab_type": "code",
    "id": "8jov9jN2qJhF",
    "outputId": "6b817fff-3ffc-4914-82d9-7ec1900c0868"
   },
   "outputs": [
    {
     "data": {
      "text/plain": [
       "0.7112422900511657"
      ]
     },
     "execution_count": 349,
     "metadata": {
      "tags": []
     },
     "output_type": "execute_result"
    }
   ],
   "source": [
    "dt.score(X_train,y_train) # r square of train"
   ]
  },
  {
   "cell_type": "markdown",
   "metadata": {
    "colab_type": "text",
    "id": "q_SJkK74wY_L"
   },
   "source": [
    "## Cobaining both"
   ]
  },
  {
   "cell_type": "code",
   "execution_count": 351,
   "metadata": {
    "colab": {
     "base_uri": "https://localhost:8080/",
     "height": 34
    },
    "colab_type": "code",
    "id": "-ad5d-2Zwexl",
    "outputId": "7e23dc40-64ab-4da9-ecee-db2bdff523bf"
   },
   "outputs": [
    {
     "data": {
      "text/plain": [
       "0.7047783361004718"
      ]
     },
     "execution_count": 351,
     "metadata": {
      "tags": []
     },
     "output_type": "execute_result"
    }
   ],
   "source": [
    "pred = (pred1+pred2)/2\n",
    "r2_score(y_validation,pred) #final r2_score"
   ]
  },
  {
   "cell_type": "code",
   "execution_count": 0,
   "metadata": {
    "colab": {},
    "colab_type": "code",
    "id": "zRuoLWMgqJbb"
   },
   "outputs": [],
   "source": []
  },
  {
   "cell_type": "markdown",
   "metadata": {
    "colab_type": "text",
    "id": "KTeIbRidxJR6"
   },
   "source": [
    "# Clusteing Consumers"
   ]
  },
  {
   "cell_type": "code",
   "execution_count": 0,
   "metadata": {
    "colab": {},
    "colab_type": "code",
    "id": "aPv2OtbpxZSb"
   },
   "outputs": [],
   "source": [
    "Data = pd.read_csv(\"Consumer Behavior.csv\")"
   ]
  },
  {
   "cell_type": "markdown",
   "metadata": {
    "colab_type": "text",
    "id": "h5eePBOfx29-"
   },
   "source": [
    "combaining all rows of a particular user into one row and creating new data"
   ]
  },
  {
   "cell_type": "code",
   "execution_count": 0,
   "metadata": {
    "colab": {},
    "colab_type": "code",
    "id": "jpAqDH5vxuJz"
   },
   "outputs": [],
   "source": [
    "user_list = list(set(Data.User_ID)) #set of users"
   ]
  },
  {
   "cell_type": "code",
   "execution_count": 0,
   "metadata": {
    "colab": {},
    "colab_type": "code",
    "id": "MXb14iiAxuJ8"
   },
   "outputs": [],
   "source": [
    "g = []\n",
    "a = []\n",
    "o = []\n",
    "c = []\n",
    "sic = []\n",
    "ms = []\n",
    "pc1 = []\n",
    "pc2 = []\n",
    "pc3 = []\n",
    "PA = []\n",
    "for i in user_list:\n",
    "    t = Data[Data.User_ID==i]\n",
    "    g.append(t.Gender.values[0])\n",
    "    a.append(t.Age.values[0])\n",
    "    o.append(t.Occupation.values[0])\n",
    "    c.append(t.City_Category.values[0])\n",
    "    sic.append(t.Stay_In_Current_City_Years.values[0])\n",
    "    ms.append(t.Marital_Status.values[0])\n",
    "    pc1.append(t.Product_Category_1.mean())\n",
    "    pc2.append(t.Product_Category_2.mean())\n",
    "    pc3.append(t.Product_Category_3.mean())\n",
    "    PA.append(t['Purchase Amount'].sum())\n",
    "    "
   ]
  },
  {
   "cell_type": "code",
   "execution_count": 0,
   "metadata": {
    "colab": {},
    "colab_type": "code",
    "id": "1VR1k8AmxuKQ"
   },
   "outputs": [],
   "source": [
    "Data2 = pd.DataFrame()\n",
    "Data2['user_ID'] = user_list\n",
    "Data2['Gender'] = g\n",
    "Data2['Age'] = a\n",
    "Data2['Occupation'] = o\n",
    "Data2['City_Category'] = c\n",
    "Data2['Stay_In_Current_City_Years'] = sic\n",
    "Data2['Marital_Status'] = ms\n",
    "Data2['Product_Category_1'] = pc1\n",
    "Data2['Product_Category_2'] = pc2\n",
    "Data2['Product_Category_3'] = pc3\n",
    "Data2['PA'] = PA"
   ]
  },
  {
   "cell_type": "code",
   "execution_count": 0,
   "metadata": {
    "colab": {},
    "colab_type": "code",
    "id": "26d7x2BXxuKi"
   },
   "outputs": [],
   "source": [
    "#preprocessing data2\n",
    "Data2 = Data2.fillna(0)\n",
    "Data2.Stay_In_Current_City_Years = Data2.Stay_In_Current_City_Years.replace('4+',5)\n",
    "\n",
    "Data2.Gender = pd.factorize(Data2.Gender)[0]\n",
    "Data2.Age = Data2.Age.replace(['0-17','18-25','26-35','36-45','46-50','51-55','55+'],[1,2,3,4,5,6,7])\n",
    "Data2.City_Category = pd.factorize(Data2.City_Category)[0]"
   ]
  },
  {
   "cell_type": "code",
   "execution_count": 357,
   "metadata": {
    "colab": {
     "base_uri": "https://localhost:8080/",
     "height": 195
    },
    "colab_type": "code",
    "id": "QgQpweJBxuKy",
    "outputId": "2abf5678-5183-4ea5-b8fd-6ae488e44131"
   },
   "outputs": [
    {
     "data": {
      "text/html": [
       "<div>\n",
       "<style scoped>\n",
       "    .dataframe tbody tr th:only-of-type {\n",
       "        vertical-align: middle;\n",
       "    }\n",
       "\n",
       "    .dataframe tbody tr th {\n",
       "        vertical-align: top;\n",
       "    }\n",
       "\n",
       "    .dataframe thead th {\n",
       "        text-align: right;\n",
       "    }\n",
       "</style>\n",
       "<table border=\"1\" class=\"dataframe\">\n",
       "  <thead>\n",
       "    <tr style=\"text-align: right;\">\n",
       "      <th></th>\n",
       "      <th>user_ID</th>\n",
       "      <th>Gender</th>\n",
       "      <th>Age</th>\n",
       "      <th>Occupation</th>\n",
       "      <th>City_Category</th>\n",
       "      <th>Stay_In_Current_City_Years</th>\n",
       "      <th>Marital_Status</th>\n",
       "      <th>Product_Category_1</th>\n",
       "      <th>Product_Category_2</th>\n",
       "      <th>Product_Category_3</th>\n",
       "      <th>PA</th>\n",
       "    </tr>\n",
       "  </thead>\n",
       "  <tbody>\n",
       "    <tr>\n",
       "      <th>0</th>\n",
       "      <td>1000001</td>\n",
       "      <td>0</td>\n",
       "      <td>1</td>\n",
       "      <td>10</td>\n",
       "      <td>0</td>\n",
       "      <td>2</td>\n",
       "      <td>0</td>\n",
       "      <td>5.676471</td>\n",
       "      <td>6.285714</td>\n",
       "      <td>10.571429</td>\n",
       "      <td>333481</td>\n",
       "    </tr>\n",
       "    <tr>\n",
       "      <th>1</th>\n",
       "      <td>1000002</td>\n",
       "      <td>1</td>\n",
       "      <td>7</td>\n",
       "      <td>16</td>\n",
       "      <td>1</td>\n",
       "      <td>5</td>\n",
       "      <td>0</td>\n",
       "      <td>4.394737</td>\n",
       "      <td>9.981481</td>\n",
       "      <td>13.807692</td>\n",
       "      <td>810353</td>\n",
       "    </tr>\n",
       "    <tr>\n",
       "      <th>2</th>\n",
       "      <td>1000003</td>\n",
       "      <td>1</td>\n",
       "      <td>3</td>\n",
       "      <td>15</td>\n",
       "      <td>0</td>\n",
       "      <td>3</td>\n",
       "      <td>0</td>\n",
       "      <td>3.206897</td>\n",
       "      <td>5.086957</td>\n",
       "      <td>11.384615</td>\n",
       "      <td>341635</td>\n",
       "    </tr>\n",
       "    <tr>\n",
       "      <th>3</th>\n",
       "      <td>1000004</td>\n",
       "      <td>1</td>\n",
       "      <td>5</td>\n",
       "      <td>7</td>\n",
       "      <td>2</td>\n",
       "      <td>2</td>\n",
       "      <td>1</td>\n",
       "      <td>1.000000</td>\n",
       "      <td>8.500000</td>\n",
       "      <td>14.111111</td>\n",
       "      <td>205987</td>\n",
       "    </tr>\n",
       "    <tr>\n",
       "      <th>4</th>\n",
       "      <td>1000005</td>\n",
       "      <td>1</td>\n",
       "      <td>3</td>\n",
       "      <td>20</td>\n",
       "      <td>0</td>\n",
       "      <td>1</td>\n",
       "      <td>1</td>\n",
       "      <td>6.216981</td>\n",
       "      <td>11.068966</td>\n",
       "      <td>12.937500</td>\n",
       "      <td>821001</td>\n",
       "    </tr>\n",
       "  </tbody>\n",
       "</table>\n",
       "</div>"
      ],
      "text/plain": [
       "   user_ID  Gender  Age  Occupation  City_Category Stay_In_Current_City_Years  \\\n",
       "0  1000001       0    1          10              0                          2   \n",
       "1  1000002       1    7          16              1                          5   \n",
       "2  1000003       1    3          15              0                          3   \n",
       "3  1000004       1    5           7              2                          2   \n",
       "4  1000005       1    3          20              0                          1   \n",
       "\n",
       "   Marital_Status  Product_Category_1  Product_Category_2  Product_Category_3  \\\n",
       "0               0            5.676471            6.285714           10.571429   \n",
       "1               0            4.394737            9.981481           13.807692   \n",
       "2               0            3.206897            5.086957           11.384615   \n",
       "3               1            1.000000            8.500000           14.111111   \n",
       "4               1            6.216981           11.068966           12.937500   \n",
       "\n",
       "       PA  \n",
       "0  333481  \n",
       "1  810353  \n",
       "2  341635  \n",
       "3  205987  \n",
       "4  821001  "
      ]
     },
     "execution_count": 357,
     "metadata": {
      "tags": []
     },
     "output_type": "execute_result"
    }
   ],
   "source": [
    "Data2.head()"
   ]
  },
  {
   "cell_type": "code",
   "execution_count": 0,
   "metadata": {
    "colab": {},
    "colab_type": "code",
    "id": "q6TGEAhbxbB0"
   },
   "outputs": [],
   "source": [
    "Data2 = Data2.drop(labels=['user_ID'],axis=1)"
   ]
  },
  {
   "cell_type": "code",
   "execution_count": 360,
   "metadata": {
    "colab": {
     "base_uri": "https://localhost:8080/",
     "height": 290
    },
    "colab_type": "code",
    "id": "j3wSLVUzxa_e",
    "outputId": "8a3f2d52-c04e-45bc-8b39-51117aaf828f"
   },
   "outputs": [
    {
     "data": {
      "image/png": "[encoded data removed]",
      "text/plain": [
       "<matplotlib.figure.Figure at 0x7f0c24fad940>"
      ]
     },
     "metadata": {
      "tags": []
     },
     "output_type": "display_data"
    }
   ],
   "source": [
    "#Finding the optimal number of clusters\n",
    "sse = {}\n",
    "for k in range(1, 19):\n",
    "    kmeans = KMeans(n_clusters=k, max_iter=500).fit(Data2)\n",
    "    Data2[\"clusters\"] = kmeans.labels_\n",
    "    #print(data[\"clusters\"])\n",
    "    sse[k] = kmeans.inertia_ # Inertia: Sum of distances of samples to their closest cluster center\n",
    "plt.figure()\n",
    "plt.plot(list(sse.keys()), list(sse.values()))\n",
    "plt.xlabel(\"Number of cluster\")\n",
    "plt.ylabel(\"SSE\")\n",
    "plt.show()"
   ]
  },
  {
   "cell_type": "code",
   "execution_count": 0,
   "metadata": {
    "colab": {},
    "colab_type": "code",
    "id": "qX0ReOl5xa9F"
   },
   "outputs": [],
   "source": []
  },
  {
   "cell_type": "code",
   "execution_count": 0,
   "metadata": {
    "colab": {},
    "colab_type": "code",
    "id": "f2Ys4RljzOI1"
   },
   "outputs": [],
   "source": [
    "kmeans = KMeans(n_clusters=4, max_iter=500).fit(Data2) #from elbow method picked k = 4\n",
    "Data2[\"clusters\"] = kmeans.labels_"
   ]
  },
  {
   "cell_type": "code",
   "execution_count": 385,
   "metadata": {
    "colab": {
     "base_uri": "https://localhost:8080/",
     "height": 294
    },
    "colab_type": "code",
    "id": "o6UPyfC7zOF7",
    "outputId": "e471cf29-401f-422f-aab1-3f6dd134f165"
   },
   "outputs": [
    {
     "data": {
      "text/plain": [
       "<matplotlib.collections.PathCollection at 0x7f0c24304320>"
      ]
     },
     "execution_count": 385,
     "metadata": {
      "tags": []
     },
     "output_type": "execute_result"
    },
    {
     "data": {
      "image/png": "[encoded data removed]",
      "text/plain": [
       "<matplotlib.figure.Figure at 0x7f0c24266a90>"
      ]
     },
     "metadata": {
      "tags": []
     },
     "output_type": "display_data"
    }
   ],
   "source": [
    "plt.scatter(Data2.clusters,Data2.PA)\n"
   ]
  },
  {
   "cell_type": "code",
   "execution_count": 383,
   "metadata": {
    "colab": {
     "base_uri": "https://localhost:8080/",
     "height": 195
    },
    "colab_type": "code",
    "id": "Oo07cYQGzOC3",
    "outputId": "98f9ee9f-2f0f-44d9-911a-e5225a7a3a66"
   },
   "outputs": [
    {
     "data": {
      "text/html": [
       "<div>\n",
       "<style scoped>\n",
       "    .dataframe tbody tr th:only-of-type {\n",
       "        vertical-align: middle;\n",
       "    }\n",
       "\n",
       "    .dataframe tbody tr th {\n",
       "        vertical-align: top;\n",
       "    }\n",
       "\n",
       "    .dataframe thead th {\n",
       "        text-align: right;\n",
       "    }\n",
       "</style>\n",
       "<table border=\"1\" class=\"dataframe\">\n",
       "  <thead>\n",
       "    <tr style=\"text-align: right;\">\n",
       "      <th></th>\n",
       "      <th>Gender</th>\n",
       "      <th>Age</th>\n",
       "      <th>Occupation</th>\n",
       "      <th>City_Category</th>\n",
       "      <th>Stay_In_Current_City_Years</th>\n",
       "      <th>Marital_Status</th>\n",
       "      <th>Product_Category_1</th>\n",
       "      <th>Product_Category_2</th>\n",
       "      <th>Product_Category_3</th>\n",
       "      <th>PA</th>\n",
       "      <th>clusters</th>\n",
       "    </tr>\n",
       "  </thead>\n",
       "  <tbody>\n",
       "    <tr>\n",
       "      <th>0</th>\n",
       "      <td>0</td>\n",
       "      <td>1</td>\n",
       "      <td>10</td>\n",
       "      <td>0</td>\n",
       "      <td>2</td>\n",
       "      <td>0</td>\n",
       "      <td>5.676471</td>\n",
       "      <td>6.285714</td>\n",
       "      <td>10.571429</td>\n",
       "      <td>333481</td>\n",
       "      <td>2</td>\n",
       "    </tr>\n",
       "    <tr>\n",
       "      <th>1</th>\n",
       "      <td>1</td>\n",
       "      <td>7</td>\n",
       "      <td>16</td>\n",
       "      <td>1</td>\n",
       "      <td>5</td>\n",
       "      <td>0</td>\n",
       "      <td>4.394737</td>\n",
       "      <td>9.981481</td>\n",
       "      <td>13.807692</td>\n",
       "      <td>810353</td>\n",
       "      <td>2</td>\n",
       "    </tr>\n",
       "    <tr>\n",
       "      <th>2</th>\n",
       "      <td>1</td>\n",
       "      <td>3</td>\n",
       "      <td>15</td>\n",
       "      <td>0</td>\n",
       "      <td>3</td>\n",
       "      <td>0</td>\n",
       "      <td>3.206897</td>\n",
       "      <td>5.086957</td>\n",
       "      <td>11.384615</td>\n",
       "      <td>341635</td>\n",
       "      <td>2</td>\n",
       "    </tr>\n",
       "    <tr>\n",
       "      <th>3</th>\n",
       "      <td>1</td>\n",
       "      <td>5</td>\n",
       "      <td>7</td>\n",
       "      <td>2</td>\n",
       "      <td>2</td>\n",
       "      <td>1</td>\n",
       "      <td>1.000000</td>\n",
       "      <td>8.500000</td>\n",
       "      <td>14.111111</td>\n",
       "      <td>205987</td>\n",
       "      <td>2</td>\n",
       "    </tr>\n",
       "    <tr>\n",
       "      <th>4</th>\n",
       "      <td>1</td>\n",
       "      <td>3</td>\n",
       "      <td>20</td>\n",
       "      <td>0</td>\n",
       "      <td>1</td>\n",
       "      <td>1</td>\n",
       "      <td>6.216981</td>\n",
       "      <td>11.068966</td>\n",
       "      <td>12.937500</td>\n",
       "      <td>821001</td>\n",
       "      <td>2</td>\n",
       "    </tr>\n",
       "  </tbody>\n",
       "</table>\n",
       "</div>"
      ],
      "text/plain": [
       "   Gender  Age  Occupation  City_Category Stay_In_Current_City_Years  \\\n",
       "0       0    1          10              0                          2   \n",
       "1       1    7          16              1                          5   \n",
       "2       1    3          15              0                          3   \n",
       "3       1    5           7              2                          2   \n",
       "4       1    3          20              0                          1   \n",
       "\n",
       "   Marital_Status  Product_Category_1  Product_Category_2  Product_Category_3  \\\n",
       "0               0            5.676471            6.285714           10.571429   \n",
       "1               0            4.394737            9.981481           13.807692   \n",
       "2               0            3.206897            5.086957           11.384615   \n",
       "3               1            1.000000            8.500000           14.111111   \n",
       "4               1            6.216981           11.068966           12.937500   \n",
       "\n",
       "       PA  clusters  \n",
       "0  333481         2  \n",
       "1  810353         2  \n",
       "2  341635         2  \n",
       "3  205987         2  \n",
       "4  821001         2  "
      ]
     },
     "execution_count": 383,
     "metadata": {
      "tags": []
     },
     "output_type": "execute_result"
    }
   ],
   "source": [
    "Data2.head()"
   ]
  },
  {
   "cell_type": "code",
   "execution_count": 0,
   "metadata": {
    "colab": {},
    "colab_type": "code",
    "id": "arCsRVR_xa3m"
   },
   "outputs": [],
   "source": []
  },
  {
   "cell_type": "markdown",
   "metadata": {
    "colab_type": "text",
    "id": "jZeBWLgiTeI6"
   },
   "source": [
    "# TEST FUNCTION"
   ]
  },
  {
   "cell_type": "code",
   "execution_count": 0,
   "metadata": {
    "colab": {},
    "colab_type": "code",
    "id": "8cOrlaIBTeI9"
   },
   "outputs": [],
   "source": [
    "x='Consumer Behavior.csv'"
   ]
  },
  {
   "cell_type": "code",
   "execution_count": 0,
   "metadata": {
    "colab": {},
    "colab_type": "code",
    "id": "scf32Z-yTeJD"
   },
   "outputs": [],
   "source": [
    "def test(x):\n",
    "    stay_dict={'2':2, '4+':4, '3':3, '1':1, '0':0}\n",
    "    age_dict={'0-17':0, '55+':55, '26-35':26, '46-50':46, '51-55':51, '36-45':36, '18-25':18}\n",
    "    \n",
    "    df=pd.read_csv('Consumer Behavior.csv')\n",
    "    \n",
    "    le_gend=LabelEncoder()\n",
    "    le_city=LabelEncoder()\n",
    "    \n",
    "    df['Gender']=le_gend.fit_transform(df['Gender'])\n",
    "    df['City_Category']=le_city.fit_transform(df['City_Category'])\n",
    "    df['Stay_In_Current_City_Years']=df['Stay_In_Current_City_Years'].map(stay_dict)\n",
    "    df['Age']=df['Age'].map(age_dict)\n",
    "    df['Product_ID'] = df['Product_ID'].factorize()[0]\n",
    "    \n",
    "    X=df.drop(['User_ID','Purchase Amount'],axis=1)\n",
    "    y=df['Purchase Amount']\n",
    "    \n",
    "    X.fillna(value=0.01,inplace=True)\n",
    "    X['Age_Prod1']=X.apply(lambda x:x['Age']*x['Product_Category_1'],axis=1)\n",
    "    X['Prod2_Prod1_Prod3']=X.apply(lambda x:x['Product_Category_2']*x['Product_Category_3']*x['Product_Category_1'],axis=1)\n",
    "    X['Prod2_Prod1']=X.apply(lambda x:x['Product_Category_2']*x['Product_Category_1'],axis=1)\n",
    "    \n",
    " \n",
    "    X_train,X_test,y_train,y_test=train_test_split(X,y,test_size=0.27,random_state=38)\n",
    "    \n",
    "    \n",
    "    rf=RandomForestRegressor(n_estimators=30,verbose=3,max_depth=90,min_samples_leaf=120,criterion='mse')\n",
    "    rf.fit(X_train,y_train)\n",
    "    pred1 = rf.predict(X_test)\n",
    "    \n",
    "    dt=DecisionTreeRegressor(max_depth=70,max_leaf_nodes = 2000,min_samples_leaf=90)\n",
    "    dt.fit(X_train,y_train)\n",
    "    pred2 = dt.predict(X_test)\n",
    "   \n",
    "    pred_final=(pred1+pred2)/2\n",
    "    \n",
    "    print(\"R2:{}\".format(r2_score(y_test,pred_final)))\n",
    "    print(\"\\n RMSE:{}\".format(np.sqrt(mean_squared_error(y_test,pred_final))))\n",
    "    "
   ]
  },
  {
   "cell_type": "code",
   "execution_count": 400,
   "metadata": {
    "colab": {
     "base_uri": "https://localhost:8080/",
     "height": 703
    },
    "colab_type": "code",
    "id": "FZQj8r2eTeJH",
    "outputId": "c2c81c1f-b09c-444f-ab7b-29eb891aaf01"
   },
   "outputs": [
    {
     "name": "stdout",
     "output_type": "stream",
     "text": [
      "building tree 1 of 30\n"
     ]
    },
    {
     "name": "stderr",
     "output_type": "stream",
     "text": [
      "[Parallel(n_jobs=1)]: Done   1 out of   1 | elapsed:    1.6s remaining:    0.0s\n"
     ]
    },
    {
     "name": "stdout",
     "output_type": "stream",
     "text": [
      "building tree 2 of 30\n"
     ]
    },
    {
     "name": "stderr",
     "output_type": "stream",
     "text": [
      "[Parallel(n_jobs=1)]: Done   2 out of   2 | elapsed:    3.1s remaining:    0.0s\n"
     ]
    },
    {
     "name": "stdout",
     "output_type": "stream",
     "text": [
      "building tree 3 of 30\n",
      "building tree 4 of 30\n",
      "building tree 5 of 30\n",
      "building tree 6 of 30\n",
      "building tree 7 of 30\n",
      "building tree 8 of 30\n",
      "building tree 9 of 30\n",
      "building tree 10 of 30\n",
      "building tree 11 of 30\n",
      "building tree 12 of 30\n",
      "building tree 13 of 30\n",
      "building tree 14 of 30\n",
      "building tree 15 of 30\n",
      "building tree 16 of 30\n",
      "building tree 17 of 30\n",
      "building tree 18 of 30\n",
      "building tree 19 of 30\n",
      "building tree 20 of 30\n",
      "building tree 21 of 30\n",
      "building tree 22 of 30\n",
      "building tree 23 of 30\n",
      "building tree 24 of 30\n",
      "building tree 25 of 30\n",
      "building tree 26 of 30\n",
      "building tree 27 of 30\n",
      "building tree 28 of 30\n",
      "building tree 29 of 30\n",
      "building tree 30 of 30\n"
     ]
    },
    {
     "name": "stderr",
     "output_type": "stream",
     "text": [
      "[Parallel(n_jobs=1)]: Done  30 out of  30 | elapsed:   46.8s finished\n",
      "[Parallel(n_jobs=1)]: Done   1 out of   1 | elapsed:    0.0s remaining:    0.0s\n",
      "[Parallel(n_jobs=1)]: Done   2 out of   2 | elapsed:    0.0s remaining:    0.0s\n",
      "[Parallel(n_jobs=1)]: Done  30 out of  30 | elapsed:    0.6s finished\n"
     ]
    },
    {
     "name": "stdout",
     "output_type": "stream",
     "text": [
      "R2:0.7028213458003576\n",
      "\n",
      " RMSE:2714.4902872384846\n"
     ]
    }
   ],
   "source": [
    "test(x)"
   ]
  }
 ],
 "metadata": {
  "accelerator": "GPU",
  "colab": {
   "collapsed_sections": [
    "i6n3w_Jp_sWp",
    "S4Rlw7gG_hGY",
    "N-FcoiNgw_xl",
    "6-XUFhPfn-FP",
    "Le_RgopoqPDZ",
    "q_SJkK74wY_L",
    "KTeIbRidxJR6",
    "owLU0mvLqK_o",
    "py0MhabPTeF0",
    "CAmSDVnpTeH8",
    "jZeBWLgiTeI6"
   ],
   "name": "Model_New_Feat.ipynb",
   "provenance": [],
   "version": "0.3.2"
  },
  "kernelspec": {
   "display_name": "Python 3",
   "language": "python",
   "name": "python3"
  },
  "language_info": {
   "codemirror_mode": {
    "name": "ipython",
    "version": 3
   },
   "file_extension": ".py",
   "mimetype": "text/x-python",
   "name": "python",
   "nbconvert_exporter": "python",
   "pygments_lexer": "ipython3",
   "version": "3.6.8"
  }
 },
 "nbformat": 4,
 "nbformat_minor": 1
}
